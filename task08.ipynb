{
  "nbformat": 4,
  "nbformat_minor": 0,
  "metadata": {
    "colab": {
      "provenance": [],
      "authorship_tag": "ABX9TyO1IDTsD/NioQNjRLFTvfhs",
      "include_colab_link": true
    },
    "kernelspec": {
      "name": "python3",
      "display_name": "Python 3"
    },
    "language_info": {
      "name": "python"
    }
  },
  "cells": [
    {
      "cell_type": "markdown",
      "metadata": {
        "id": "view-in-github",
        "colab_type": "text"
      },
      "source": [
        "<a href=\"https://colab.research.google.com/github/j764012/data-science-exercise/blob/main/task08.ipynb\" target=\"_parent\"><img src=\"https://colab.research.google.com/assets/colab-badge.svg\" alt=\"Open In Colab\"/></a>"
      ]
    },
    {
      "cell_type": "code",
      "execution_count": null,
      "metadata": {
        "colab": {
          "base_uri": "https://localhost:8080/"
        },
        "id": "6nzEgec26qHQ",
        "outputId": "ad513837-c89f-4f00-f32a-371c9e0aeb9f"
      },
      "outputs": [
        {
          "output_type": "stream",
          "name": "stdout",
          "text": [
            "classification result:  ['Yes' 'Yes' 'Yes']\n",
            "regression result:  [61000.55909177 60999.8163813  61000.61347002]\n"
          ]
        }
      ],
      "source": [
        "import pandas as pd\n",
        "import statsmodels.api as sm\n",
        "\n",
        "source = 'https://raw.githubusercontent.com/MachineLearningLiuMing/scikit-learn-primer-guide/master/Data.csv'\n",
        "df = pd.read_csv(source)\n",
        "\n",
        "# labelencoder\n",
        "from sklearn.preprocessing import LabelEncoder\n",
        "label_encoder = LabelEncoder()\n",
        "df['Country'] = label_encoder.fit_transform(df['Country'])\n",
        "df['Purchased'] = label_encoder.fit_transform(df['Purchased'])\n",
        "\n",
        "# KNN impute nan\n",
        "from sklearn.impute import KNNImputer\n",
        "impute = KNNImputer()\n",
        "df[['Age', 'Salary']] = impute.fit_transform(df[['Age', 'Salary']])\n",
        "\n",
        "\n",
        "# classification\n",
        "features = df.drop('Purchased', axis=1)\n",
        "labels = df['Purchased']\n",
        "\n",
        "# split train test\n",
        "from sklearn.model_selection import train_test_split\n",
        "train_features, test_features, train_labels, test_labels = train_test_split(features, labels, test_size=0.3)\n",
        "\n",
        "from sklearn.svm import SVR, SVC\n",
        "svc_model = SVC()\n",
        "svc_model.fit(train_features, train_labels)\n",
        "svc_pred = svc_model.predict(test_features)\n",
        "svc_pred = label_encoder.inverse_transform(svc_pred)\n",
        "print('classification result: ', svc_pred)\n",
        "\n",
        "\n",
        "# regression \n",
        "\n",
        "features = df.drop('Salary', axis=1)\n",
        "labels = df['Salary']\n",
        "\n",
        "# split train test\n",
        "from sklearn.model_selection import train_test_split\n",
        "train_features, test_features, train_labels, test_labels = train_test_split(features, labels, test_size=0.3)\n",
        "\n",
        "svr_model = SVR()\n",
        "svr_model.fit(train_features, train_labels)\n",
        "svr_pred = svr_model.predict(test_features)\n",
        "\n",
        "print('regression result: ', svr_pred)"
      ]
    },
    {
      "cell_type": "code",
      "source": [
        "import numpy as np\n",
        "import pandas as pd\n",
        "import matplotlib.pyplot as plt\n",
        "X = np.array([[1, 2], [1, 4], [1, 0],\n",
        "              [4, 2], [4, 4], [4, 0]])\n",
        "\n",
        "print('===== 原始資料 =====')\n",
        "df = pd.DataFrame(X)\n",
        "# print(df)\n",
        "plt.scatter(df[0], df[1])\n",
        "plt.show()\n",
        "\n",
        "from sklearn.cluster import KMeans\n",
        "\n",
        "KMeans_clu = KMeans(n_clusters=3)\n",
        "KMeans_clu.fit(df)\n",
        "preds = KMeans_clu.predict(df)\n",
        "print(preds)\n",
        "\n",
        "KMeans_clu = KMeans(n_clusters=4)\n",
        "KMeans_clu.fit(df)\n",
        "preds = KMeans_clu.predict(df)\n",
        "print(preds)\n",
        "\n",
        "KMeans_clu = KMeans(n_clusters=5)\n",
        "KMeans_clu.fit(df)\n",
        "preds = KMeans_clu.predict(df)\n",
        "print(preds)"
      ],
      "metadata": {
        "colab": {
          "base_uri": "https://localhost:8080/",
          "height": 628
        },
        "id": "hRuZMe126yYA",
        "outputId": "f16038b8-92cb-4fc8-d073-a8a0091db891"
      },
      "execution_count": null,
      "outputs": [
        {
          "output_type": "stream",
          "name": "stdout",
          "text": [
            "===== 原始資料 =====\n"
          ]
        },
        {
          "output_type": "display_data",
          "data": {
            "text/plain": [
              "<Figure size 640x480 with 1 Axes>"
            ],
            "image/png": "[encoded data removed]"
          },
          "metadata": {}
        },
        {
          "output_type": "stream",
          "name": "stdout",
          "text": [
            "[1 2 1 0 2 0]\n",
            "[0 2 0 1 3 1]\n",
            "[1 3 4 0 2 0]\n"
          ]
        },
        {
          "output_type": "stream",
          "name": "stderr",
          "text": [
            "/usr/local/lib/python3.9/dist-packages/sklearn/cluster/_kmeans.py:870: FutureWarning: The default value of `n_init` will change from 10 to 'auto' in 1.4. Set the value of `n_init` explicitly to suppress the warning\n",
            "  warnings.warn(\n",
            "/usr/local/lib/python3.9/dist-packages/sklearn/cluster/_kmeans.py:870: FutureWarning: The default value of `n_init` will change from 10 to 'auto' in 1.4. Set the value of `n_init` explicitly to suppress the warning\n",
            "  warnings.warn(\n",
            "/usr/local/lib/python3.9/dist-packages/sklearn/cluster/_kmeans.py:870: FutureWarning: The default value of `n_init` will change from 10 to 'auto' in 1.4. Set the value of `n_init` explicitly to suppress the warning\n",
            "  warnings.warn(\n"
          ]
        }
      ]
    },
    {
      "cell_type": "code",
      "source": [],
      "metadata": {
        "id": "1uR8JoZSMTrR"
      },
      "execution_count": null,
      "outputs": []
    }
  ]
}