{
  "nbformat": 4,
  "nbformat_minor": 0,
  "metadata": {
    "colab": {
      "provenance": [],
      "mount_file_id": "1g8Jyq5lXiMlIWnR5ryv3mn-KkoHw9X1d",
      "authorship_tag": "ABX9TyPF7cph9hP/3v56PITTag4R",
      "include_colab_link": true
    },
    "kernelspec": {
      "name": "python3",
      "display_name": "Python 3"
    },
    "language_info": {
      "name": "python"
    }
  },
  "cells": [
    {
      "cell_type": "markdown",
      "metadata": {
        "id": "view-in-github",
        "colab_type": "text"
      },
      "source": [
        "<a href=\"https://colab.research.google.com/github/j764012/data-science-exercise/blob/main/task03.ipynb\" target=\"_parent\"><img src=\"https://colab.research.google.com/assets/colab-badge.svg\" alt=\"Open In Colab\"/></a>"
      ]
    },
    {
      "cell_type": "markdown",
      "source": [
        "# 01"
      ],
      "metadata": {
        "id": "LV_fx5ThICFu"
      }
    },
    {
      "cell_type": "code",
      "execution_count": 1,
      "metadata": {
        "id": "WYVLdB19Ug8P"
      },
      "outputs": [],
      "source": [
        "import requests\n",
        "import pandas as pd\n",
        "from bs4 import BeautifulSoup\n",
        "url = 'https://movies.yahoo.com.tw/movie_thisweek.html?page=2'\n",
        "response = requests.get(url)\n",
        "\n",
        "soup = BeautifulSoup(response.text)\n",
        "\n",
        "name_ch_list = []\n",
        "name_en_list = []\n",
        "date = []\n",
        "good = []\n",
        "\n",
        "for i in soup.find('div', class_='release_box').find('ul', class_='release_list').find_all('li'):\n",
        "  name_ch_list.append(i.find('div', class_= 'release_movie_name')\\\n",
        "    .find_all('a', class_='gabtn')[0].text.strip())\n",
        "  \n",
        "  name_en_list.append(i.find('div', class_= 'release_movie_name')\\\n",
        "    .find_all('a', class_='gabtn')[1].text.strip())\n",
        "  \n",
        "  date.append(i.find('div', class_='release_movie_time').text.strip()[-10:])\n",
        "\n",
        "  good.append(i.find('dl', class_='levelbox').find('div', class_='leveltext').span.text)\n",
        "\n",
        "\n",
        "movie_df = pd.DataFrame({'Chinse_name':name_ch_list,'Englist_name':name_en_list, 'date':date, 'good':good})"
      ]
    },
    {
      "cell_type": "code",
      "source": [
        "movie_df"
      ],
      "metadata": {
        "colab": {
          "base_uri": "https://localhost:8080/",
          "height": 174
        },
        "id": "bNA78qxDZ47B",
        "outputId": "7a1d8d67-b46a-4da2-94cc-1da6181e1219"
      },
      "execution_count": 2,
      "outputs": [
        {
          "output_type": "execute_result",
          "data": {
            "text/plain": [
              "  Chinse_name        Englist_name        date  good\n",
              "0        限時追捕        The Blackout  2023-04-28  100%\n",
              "1       魯蛇大翻身             Rebound  2023-04-28  100%\n",
              "2        危險療程  A Dangerous Method  2023-04-28  100%\n",
              "3         麻罪犯        bitters WEED  2023-04-28   97%"
            ],
            "text/html": [
              "\n",
              "  <div id=\"df-b48837bb-7f7a-41e6-af6a-68274cf4dd9d\">\n",
              "    <div class=\"colab-df-container\">\n",
              "      <div>\n",
              "<style scoped>\n",
              "    .dataframe tbody tr th:only-of-type {\n",
              "        vertical-align: middle;\n",
              "    }\n",
              "\n",
              "    .dataframe tbody tr th {\n",
              "        vertical-align: top;\n",
              "    }\n",
              "\n",
              "    .dataframe thead th {\n",
              "        text-align: right;\n",
              "    }\n",
              "</style>\n",
              "<table border=\"1\" class=\"dataframe\">\n",
              "  <thead>\n",
              "    <tr style=\"text-align: right;\">\n",
              "      <th></th>\n",
              "      <th>Chinse_name</th>\n",
              "      <th>Englist_name</th>\n",
              "      <th>date</th>\n",
              "      <th>good</th>\n",
              "    </tr>\n",
              "  </thead>\n",
              "  <tbody>\n",
              "    <tr>\n",
              "      <th>0</th>\n",
              "      <td>限時追捕</td>\n",
              "      <td>The Blackout</td>\n",
              "      <td>2023-04-28</td>\n",
              "      <td>100%</td>\n",
              "    </tr>\n",
              "    <tr>\n",
              "      <th>1</th>\n",
              "      <td>魯蛇大翻身</td>\n",
              "      <td>Rebound</td>\n",
              "      <td>2023-04-28</td>\n",
              "      <td>100%</td>\n",
              "    </tr>\n",
              "    <tr>\n",
              "      <th>2</th>\n",
              "      <td>危險療程</td>\n",
              "      <td>A Dangerous Method</td>\n",
              "      <td>2023-04-28</td>\n",
              "      <td>100%</td>\n",
              "    </tr>\n",
              "    <tr>\n",
              "      <th>3</th>\n",
              "      <td>麻罪犯</td>\n",
              "      <td>bitters WEED</td>\n",
              "      <td>2023-04-28</td>\n",
              "      <td>97%</td>\n",
              "    </tr>\n",
              "  </tbody>\n",
              "</table>\n",
              "</div>\n",
              "      <button class=\"colab-df-convert\" onclick=\"convertToInteractive('df-b48837bb-7f7a-41e6-af6a-68274cf4dd9d')\"\n",
              "              title=\"Convert this dataframe to an interactive table.\"\n",
              "              style=\"display:none;\">\n",
              "        \n",
              "  <svg xmlns=\"http://www.w3.org/2000/svg\" height=\"24px\"viewBox=\"0 0 24 24\"\n",
              "       width=\"24px\">\n",
              "    <path d=\"M0 0h24v24H0V0z\" fill=\"none\"/>\n",
              "    <path d=\"M18.56 5.44l.94 2.06.94-2.06 2.06-.94-2.06-.94-.94-2.06-.94 2.06-2.06.94zm-11 1L8.5 8.5l.94-2.06 2.06-.94-2.06-.94L8.5 2.5l-.94 2.06-2.06.94zm10 10l.94 2.06.94-2.06 2.06-.94-2.06-.94-.94-2.06-.94 2.06-2.06.94z\"/><path d=\"M17.41 7.96l-1.37-1.37c-.4-.4-.92-.59-1.43-.59-.52 0-1.04.2-1.43.59L10.3 9.45l-7.72 7.72c-.78.78-.78 2.05 0 2.83L4 21.41c.39.39.9.59 1.41.59.51 0 1.02-.2 1.41-.59l7.78-7.78 2.81-2.81c.8-.78.8-2.07 0-2.86zM5.41 20L4 18.59l7.72-7.72 1.47 1.35L5.41 20z\"/>\n",
              "  </svg>\n",
              "      </button>\n",
              "      \n",
              "  <style>\n",
              "    .colab-df-container {\n",
              "      display:flex;\n",
              "      flex-wrap:wrap;\n",
              "      gap: 12px;\n",
              "    }\n",
              "\n",
              "    .colab-df-convert {\n",
              "      background-color: #E8F0FE;\n",
              "      border: none;\n",
              "      border-radius: 50%;\n",
              "      cursor: pointer;\n",
              "      display: none;\n",
              "      fill: #1967D2;\n",
              "      height: 32px;\n",
              "      padding: 0 0 0 0;\n",
              "      width: 32px;\n",
              "    }\n",
              "\n",
              "    .colab-df-convert:hover {\n",
              "      background-color: #E2EBFA;\n",
              "      box-shadow: 0px 1px 2px rgba(60, 64, 67, 0.3), 0px 1px 3px 1px rgba(60, 64, 67, 0.15);\n",
              "      fill: #174EA6;\n",
              "    }\n",
              "\n",
              "    [theme=dark] .colab-df-convert {\n",
              "      background-color: #3B4455;\n",
              "      fill: #D2E3FC;\n",
              "    }\n",
              "\n",
              "    [theme=dark] .colab-df-convert:hover {\n",
              "      background-color: #434B5C;\n",
              "      box-shadow: 0px 1px 3px 1px rgba(0, 0, 0, 0.15);\n",
              "      filter: drop-shadow(0px 1px 2px rgba(0, 0, 0, 0.3));\n",
              "      fill: #FFFFFF;\n",
              "    }\n",
              "  </style>\n",
              "\n",
              "      <script>\n",
              "        const buttonEl =\n",
              "          document.querySelector('#df-b48837bb-7f7a-41e6-af6a-68274cf4dd9d button.colab-df-convert');\n",
              "        buttonEl.style.display =\n",
              "          google.colab.kernel.accessAllowed ? 'block' : 'none';\n",
              "\n",
              "        async function convertToInteractive(key) {\n",
              "          const element = document.querySelector('#df-b48837bb-7f7a-41e6-af6a-68274cf4dd9d');\n",
              "          const dataTable =\n",
              "            await google.colab.kernel.invokeFunction('convertToInteractive',\n",
              "                                                     [key], {});\n",
              "          if (!dataTable) return;\n",
              "\n",
              "          const docLinkHtml = 'Like what you see? Visit the ' +\n",
              "            '<a target=\"_blank\" href=https://colab.research.google.com/notebooks/data_table.ipynb>data table notebook</a>'\n",
              "            + ' to learn more about interactive tables.';\n",
              "          element.innerHTML = '';\n",
              "          dataTable['output_type'] = 'display_data';\n",
              "          await google.colab.output.renderOutput(dataTable, element);\n",
              "          const docLink = document.createElement('div');\n",
              "          docLink.innerHTML = docLinkHtml;\n",
              "          element.appendChild(docLink);\n",
              "        }\n",
              "      </script>\n",
              "    </div>\n",
              "  </div>\n",
              "  "
            ]
          },
          "metadata": {},
          "execution_count": 2
        }
      ]
    },
    {
      "cell_type": "code",
      "source": [
        "movie_ch_name = soup.find('div', class_='release_box').find('ul', class_='release_list').find('li').find('div', class_= 'release_movie_name')\\\n",
        "    .find_all('a', class_='gabtn')[0].text.strip()\n",
        "movie_en_name = soup.find('div', class_='release_box').find('ul', class_='release_list').find('li').find('div', class_= 'release_movie_name')\\\n",
        "    .find_all('a', class_='gabtn')[1].text.strip()\n",
        "    "
      ],
      "metadata": {
        "id": "CzTnMy8pVAzu"
      },
      "execution_count": 3,
      "outputs": []
    },
    {
      "cell_type": "code",
      "source": [
        "print(movie_ch_name, movie_en_name)"
      ],
      "metadata": {
        "colab": {
          "base_uri": "https://localhost:8080/"
        },
        "id": "sbjuTPyVZlvu",
        "outputId": "8b4243b6-7151-4d55-ac55-07befca451f7"
      },
      "execution_count": 4,
      "outputs": [
        {
          "output_type": "stream",
          "name": "stdout",
          "text": [
            "限時追捕 The Blackout\n"
          ]
        }
      ]
    },
    {
      "cell_type": "code",
      "source": [
        "date = soup.find('div', class_='release_box').find('ul', class_='release_list').find('li').find('div', class_='release_movie_time').text.strip()[-10:]"
      ],
      "metadata": {
        "id": "45ok2okPXyA8"
      },
      "execution_count": 5,
      "outputs": []
    },
    {
      "cell_type": "code",
      "source": [
        "soup.find('div', class_='release_box').find('ul', class_='release_list').find('li').find('dl', class_='levelbox').find('div', class_='leveltext').span.text"
      ],
      "metadata": {
        "colab": {
          "base_uri": "https://localhost:8080/",
          "height": 35
        },
        "id": "ouXwzHLVcJmV",
        "outputId": "1e3add45-291d-49be-c648-226eb143afb5"
      },
      "execution_count": 6,
      "outputs": [
        {
          "output_type": "execute_result",
          "data": {
            "text/plain": [
              "'100%'"
            ],
            "application/vnd.google.colaboratory.intrinsic+json": {
              "type": "string"
            }
          },
          "metadata": {},
          "execution_count": 6
        }
      ]
    },
    {
      "cell_type": "markdown",
      "source": [
        "# 02"
      ],
      "metadata": {
        "id": "tRQ9w-SPIDug"
      }
    },
    {
      "cell_type": "code",
      "source": [
        "from bs4 import BeautifulSoup\n",
        "import pandas as pd\n",
        "import requests\n",
        "import time\n",
        "movie_ = ['thisweek','intheaters', 'comingsoon']\n",
        "\n",
        "for movie_type in movie_:\n",
        "  name_ch_list = []\n",
        "  name_en_list = []\n",
        "  date = []\n",
        "  good = []\n",
        "\n",
        "\n",
        "  url = f'https://movies.yahoo.com.tw/movie_{movie_type}.html?page=1'\n",
        "  response = requests.get(url)\n",
        "  soup = BeautifulSoup(response.text)\n",
        "  page = int(soup.find('div', class_='page_numbox').find_all('li')[-3].text)\n",
        "  \n",
        "  for num in range(1, page):\n",
        "    # time.sleep(5)\n",
        "    url = f'https://movies.yahoo.com.tw/movie_{movie_type}.html?page={num}'\n",
        "    response = requests.get(url)\n",
        "    soup = BeautifulSoup(response.text)\n",
        "    \n",
        "    # page = int(soup.find('div', class_='page_numbox').find_all('li')[-3].text)\n",
        "    # print(page)\n",
        "    \n",
        "\n",
        "    for i in soup.find('div', class_='release_box').find('ul', class_='release_list').find_all('li'):\n",
        "\n",
        "      name_ch_list.append(i.find('div', class_= 'release_movie_name')\\\n",
        "        .find_all('a', class_='gabtn')[0].text.strip())\n",
        "      \n",
        "      name_en_list.append(i.find('div', class_= 'release_movie_name')\\\n",
        "        .find_all('a', class_='gabtn')[1].text.strip())\n",
        "      \n",
        "      date.append(i.find('div', class_='release_movie_time').text.strip()[-10:])\n",
        "\n",
        "      if  i.find('dl', class_='levelbox').find('div', class_='leveltext'):\n",
        "        good.append(i.find('dl', class_='levelbox').find('div', class_='leveltext').span.text)\n",
        "      else:\n",
        "        good.append(' ')\n",
        "\n",
        "  if movie_type == 'thisweek':\n",
        "    movie_this_week = pd.DataFrame({'Chinse_name':name_ch_list,'Englist_name':name_en_list, 'date':date, 'good':good})\n",
        "  elif movie_type == 'intheaters':\n",
        "    movie_intheaters= pd.DataFrame({'Chinse_name':name_ch_list,'Englist_name':name_en_list, 'date':date, 'good':good})\n",
        "  elif movie_type == 'comingsoon':\n",
        "    movie_comingsoon = pd.DataFrame({'Chinse_name':name_ch_list,'Englist_name':name_en_list, 'date':date, 'good':good})\n",
        "\n",
        "print(movie_this_week)\n",
        "print(movie_intheaters)\n",
        "print(movie_comingsoon)"
      ],
      "metadata": {
        "id": "fnA-iEFuaik6",
        "colab": {
          "base_uri": "https://localhost:8080/"
        },
        "outputId": "efafa5d5-6f32-4575-f084-2d1c014f1fcf"
      },
      "execution_count": 7,
      "outputs": [
        {
          "output_type": "stream",
          "name": "stdout",
          "text": [
            "  Chinse_name           Englist_name        date  good\n",
            "0         速命道               Red Line  2023-04-27   70%\n",
            "1      梵蒂岡驅魔士    The Pope’s Exorcist  2023-04-28   90%\n",
            "2        窄路微塵        The Narrow Road  2023-04-28   67%\n",
            "3     離不開你的依賴             Dependence  2023-04-28  100%\n",
            "4        這就是我         I Am What I Am  2023-04-28  100%\n",
            "5       追兇12夜  The Night of the 12th  2023-04-28  100%\n",
            "6         心之谷   Whisper of the Heart  2023-04-28  100%\n",
            "7        絕命控制                Control  2023-04-28  100%\n",
            "8       愛情美樂地                Joyland  2023-04-28   50%\n",
            "9     扶桑花女孩之舞       Hula Fulla Dance  2023-04-28  100%\n",
            "   Chinse_name                  Englist_name        date  good\n",
            "0         愛是自私                        Egoist  2023-04-21   89%\n",
            "1         月之圓缺            Phases of the Moon  2023-04-21  100%\n",
            "2   電影刀劍亂舞-黎明-     Touken Ranbu: The Movie 2  2023-04-21  100%\n",
            "3          炸彈客                    The Bomber  2023-04-21   75%\n",
            "4          屍智症                   The Elderly  2023-04-21  100%\n",
            "..         ...                           ...         ...   ...\n",
            "75       遮蔽的天空            The Sheltering Sky  2022-01-21   86%\n",
            "76        第一爐香               Love After Love  2022-01-14   96%\n",
            "77  革命前夕的摩托車日記        The Motorcycle Diaries  2021-08-27  100%\n",
            "78        惡水真相                      Minamata  2021-05-07   98%\n",
            "79          俘虜  Merry Christmas, Mr Lawrence  2021-01-08   99%\n",
            "\n",
            "[80 rows x 4 columns]\n",
            "               Chinse_name                                     Englist_name  \\\n",
            "0                   星際異攻隊3                   Guardians of the Galaxy Vol. 3   \n",
            "1   王立宇宙軍～歐尼亞米斯之翼～：4K數位修復版      ROYAL SPACE FORCE – The Wings of Honnêamise   \n",
            "2                    揮灑心篇章                                       Maestro(s)   \n",
            "3                  指尖上綻放的愛                                 A Mother's Touch   \n",
            "4                    追殺代理人                                         Simulant   \n",
            "5                    燃燒的玫瑰                               The Colors of Fire   \n",
            "6                    上流謀殺案                           Invitation to a Murder   \n",
            "7                      鬼噤聲                                     Tainted Soul   \n",
            "8                     萊拉兄弟                                 Leila’s Brothers   \n",
            "9                   我的幸福婚約                    As Long As We Both Shall Live   \n",
            "10                    神鬼聖戰                             The Devil Conspiracy   \n",
            "11                      湯道                                             Yudo   \n",
            "12                    油麻菜籽                                           Ah Fei   \n",
            "13                    龍馬精神                                          Ride On   \n",
            "14                   正宗巨齒鯊                                  The Black Demon   \n",
            "15                  金之國水之國                   Gold Kingdom and Water Kingdom   \n",
            "16                   陰影下的她                                       Next Sohee   \n",
            "17               Anne的多重恐懼                                    Faces of Anne   \n",
            "18                    玫瑰母親                                   Mother and Son   \n",
            "19                      炎日                                     Burning Days   \n",
            "20                   玩命關頭X                                           Fast X   \n",
            "21                我的2年妓女生涯                                        La Maison   \n",
            "22                  消失的紫斑蝶                                                    \n",
            "23                     收陰機                                 Sound of Silence   \n",
            "24                    烈火焚身                                        Incendies   \n",
            "25                   摘星甜點王                                  Sugar and Stars   \n",
            "26                    小美人魚                                   Little Mermaid   \n",
            "27                    色局追兇                                              360   \n",
            "28                     厲嬰魂                                  The Unborn Soul   \n",
            "29                   駭人骨娃娃                               The Communion Girl   \n",
            "30                    烈火浩劫                                        The Blaze   \n",
            "31                     鬼出櫃                                    The Boogeyman   \n",
            "32           名偵探神助理：黃金螺旋之謎                                          Nemesis   \n",
            "33               變形金剛：萬獸崛起                 Transformers: Rise of the Beasts   \n",
            "34             深夜加油站遇見蘇格拉底                                 Peaceful Warrior   \n",
            "35                     閃電俠                                        The Flash   \n",
            "36               蜘蛛人：穿越新宇宙              Spider-Man: Across the Spider-Verse   \n",
            "37                   復仇狗聯盟                                           Strays   \n",
            "38                    小行星城                                    Asteroid City   \n",
            "39                   元素方城市                                        Elemental   \n",
            "40             名偵探柯南 黑鐵的魚影  Detective Conan The Movie: Black Iron Submarine   \n",
            "41               陰兒房：鬼門陰深處                          Insidious: The Red Door   \n",
            "42         不可能的任務：致命清算 第一章  Mission: Impossible - Dead Reckoning - Part One   \n",
            "43                Barbie芭比                                           Barbie   \n",
            "44                    奧本海默                                      Oppenheimer   \n",
            "45                   珍愛硬起來                                 No Hard Feelings   \n",
            "46               忍者龜：變種大亂鬥      Teenage Mutant Ninja Turtles: Mutant Mayhem   \n",
            "47                 GT：跨界玩家                                     Gran Turismo   \n",
            "48                     藍甲蟲                                      Blue Beetle   \n",
            "49                   私刑教育3                                  THE EQUALIZER 3   \n",
            "\n",
            "          date  good  \n",
            "0   2023-05-03   88%  \n",
            "1   2023-05-03  100%  \n",
            "2   2023-05-05  100%  \n",
            "3   2023-05-05  100%  \n",
            "4   2023-05-05  100%  \n",
            "5   2023-05-05  100%  \n",
            "6   2023-05-05  100%  \n",
            "7   2023-05-05  100%  \n",
            "8   2023-05-05  100%  \n",
            "9   2023-05-12  100%  \n",
            "10  2023-05-12  100%  \n",
            "11  2023-05-12  100%  \n",
            "12  2023-05-12   83%  \n",
            "13  2023-05-12   68%  \n",
            "14  2023-05-12  100%  \n",
            "15  2023-05-12  100%  \n",
            "16  2023-05-12  100%  \n",
            "17  2023-05-12  100%  \n",
            "18  2023-05-12        \n",
            "19  2023-05-12        \n",
            "20  2023-05-17   91%  \n",
            "21  2023-05-19  100%  \n",
            "22  2023-05-19  100%  \n",
            "23  2023-05-19  100%  \n",
            "24  2023-05-19  100%  \n",
            "25  2023-05-19  100%  \n",
            "26  2023-05-25   26%  \n",
            "27  2023-05-26  100%  \n",
            "28  2023-05-26  100%  \n",
            "29  2023-05-26  100%  \n",
            "30  2023-06-02  100%  \n",
            "31  2023-06-02  100%  \n",
            "32  2023-06-02  100%  \n",
            "33  2023-06-07   97%  \n",
            "34  2023-06-09  100%  \n",
            "35  2023-06-16   92%  \n",
            "36  2023-06-21   90%  \n",
            "37  2023-06-21  100%  \n",
            "38  2023-06-23  100%  \n",
            "39  2023-07-06  100%  \n",
            "40  2023-07-06  100%  \n",
            "41  2023-07-07  100%  \n",
            "42  2023-07-14   97%  \n",
            "43  2023-07-20   75%  \n",
            "44  2023-07-21  100%  \n",
            "45  2023-07-28  100%  \n",
            "46  2023-08-04   75%  \n",
            "47  2023-08-11  100%  \n",
            "48  2023-08-17   83%  \n",
            "49  2023-08-31  100%  \n"
          ]
        }
      ]
    },
    {
      "cell_type": "markdown",
      "source": [
        "# 03"
      ],
      "metadata": {
        "id": "4J3wnVonIK4u"
      }
    },
    {
      "cell_type": "code",
      "source": [
        "from bs4 import BeautifulSoup\n",
        "import pandas as pd\n",
        "import requests\n",
        "import time\n",
        "import sqlite3\n",
        "movie_ = ['thisweek','intheaters', 'comingsoon']\n",
        "for movie_type in movie_:\n",
        "  name_ch_list = []\n",
        "  name_en_list = []\n",
        "  date = []\n",
        "  good = []\n",
        "\n",
        "\n",
        "  url = f'https://movies.yahoo.com.tw/movie_{movie_type}.html?page=1'\n",
        "  response = requests.get(url)\n",
        "  soup = BeautifulSoup(response.text)\n",
        "  page = int(soup.find('div', class_='page_numbox').find_all('li')[-3].text)\n",
        "  \n",
        "  for num in range(1, page):\n",
        "    # time.sleep(5)\n",
        "    url = f'https://movies.yahoo.com.tw/movie_{movie_type}.html?page={num}'\n",
        "    response = requests.get(url)\n",
        "    soup = BeautifulSoup(response.text)\n",
        "    \n",
        "    \n",
        "    \n",
        "\n",
        "    for i in soup.find('div', class_='release_box').find('ul', class_='release_list').find_all('li'):\n",
        "\n",
        "      name_ch_list.append(i.find('div', class_= 'release_movie_name')\\\n",
        "        .find_all('a', class_='gabtn')[0].text.strip())\n",
        "      \n",
        "      name_en_list.append(i.find('div', class_= 'release_movie_name')\\\n",
        "        .find_all('a', class_='gabtn')[1].text.strip())\n",
        "      \n",
        "      date.append(i.find('div', class_='release_movie_time').text.strip()[-10:])\n",
        "\n",
        "      if  i.find('dl', class_='levelbox').find('div', class_='leveltext'):\n",
        "        good.append(i.find('dl', class_='levelbox').find('div', class_='leveltext').span.text)\n",
        "      else:\n",
        "        good.append(' ')\n",
        "\n",
        "  if movie_type == 'thisweek':\n",
        "    movie_this_week = pd.DataFrame({'Chinse_name':name_ch_list,'Englist_name':name_en_list, 'date':date, 'good':good})\n",
        "  elif movie_type == 'intheaters':\n",
        "    movie_intheaters= pd.DataFrame({'Chinse_name':name_ch_list,'Englist_name':name_en_list, 'date':date, 'good':good})\n",
        "  elif movie_type == 'comingsoon':\n",
        "    movie_comingsoon = pd.DataFrame({'Chinse_name':name_ch_list,'Englist_name':name_en_list, 'date':date, 'good':good})\n",
        "\n",
        "\n",
        "conn = sqlite3.connect('/content/drive/MyDrive/1116031/python basic/movie_info.db')\n",
        "\n",
        "conn.execute('''CREATE TABLE IF NOT EXISTS thisweek_movie_info (chinse name TEXT, english name TEXT, date TEXT, good INT )\n",
        "            ''')\n",
        "conn.execute('''CREATE TABLE IF NOT EXISTS intheaters_movie_info (chinse name TEXT, english name TEXT, date TEXT, good INT )\n",
        "            ''')\n",
        "conn.execute('''CREATE TABLE IF NOT EXISTS comingsoon_movie_info (chinse name TEXT, english name TEXT, date TEXT, good INT )\n",
        "            ''')\n",
        "movie_this_week.to_sql('thisweek_movie_info', conn, if_exists='replace', index=False)\n",
        "movie_intheaters.to_sql('intheaters_movie_info', conn, if_exists='replace', index=False)\n",
        "movie_comingsoon.to_sql('comingsoon_movie_info', conn, if_exists='replace', index=False)\n",
        "\n",
        "conn.commit()\n",
        "conn.close()"
      ],
      "metadata": {
        "id": "k9Y6OBh0IMDe"
      },
      "execution_count": 9,
      "outputs": []
    },
    {
      "cell_type": "code",
      "source": [],
      "metadata": {
        "id": "S7vSm6yqImAf"
      },
      "execution_count": null,
      "outputs": []
    }
  ]
}