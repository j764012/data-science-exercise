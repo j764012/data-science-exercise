{
  "nbformat": 4,
  "nbformat_minor": 0,
  "metadata": {
    "colab": {
      "provenance": [],
      "authorship_tag": "ABX9TyMUIkwjx7DgLUyD0oyVndGW",
      "include_colab_link": true
    },
    "kernelspec": {
      "name": "python3",
      "display_name": "Python 3"
    },
    "language_info": {
      "name": "python"
    }
  },
  "cells": [
    {
      "cell_type": "markdown",
      "metadata": {
        "id": "view-in-github",
        "colab_type": "text"
      },
      "source": [
        "<a href=\"https://colab.research.google.com/github/j764012/data-science-exercise/blob/main/task04.ipynb\" target=\"_parent\"><img src=\"https://colab.research.google.com/assets/colab-badge.svg\" alt=\"Open In Colab\"/></a>"
      ]
    },
    {
      "cell_type": "code",
      "source": [
        "import numpy as np\n",
        "import pandas as pd\n",
        "raw_data = {'first_name': ['Jason', np.nan, 'Tina', 'Jake', 'Amy'], \n",
        "        'last_name': ['Miller', np.nan, 'Ali', 'Milner', 'Cooze'], \n",
        "        'age': [42, np.nan, 36, 24, 73], \n",
        "        'sex': ['m', np.nan, 'f', 'm', 'f'], \n",
        "        'preTestScore': [4, np.nan, np.nan, 2, 3],\n",
        "        'postTestScore': [25, np.nan, np.nan, 62, 70]}\n",
        "df = pd.DataFrame(raw_data, columns = ['first_name', 'last_name', 'age', 'sex', 'preTestScore', 'postTestScore'])\n",
        "\n",
        "print(df)\n",
        "#Drop missing observations\n",
        "\n",
        "print(df.dropna())\n",
        "\n",
        "# Drop rows where all cells in that row is NA\n",
        "\n",
        "print('#Drop missing observations :' )\n",
        "print(df.dropna(how='all', inplace=True))\n",
        "\n",
        "# Create a new column full of missing values\n",
        "\n",
        "df['new_col'] = np.nan\n",
        "print('#Create a new column full of missing values :' )\n",
        "print(df)\n",
        "\n",
        "# Fill in missing data with zeros\n",
        "\n",
        "print('# Fill in missing data with zeros')\n",
        "print(df.fillna(0))\n",
        "\n",
        "# Fill in missing in preTestScore with the mean value of preTestScore\n",
        "\n",
        "print('# Fill in missing in preTestScore with the mean value of preTestScore')\n",
        "df['preTestScore'].fillna(df['preTestScore'].mean(), inplace=True)\n",
        "print(df)\n",
        "\n",
        "\n",
        "# Fill in missing in postTestScore with each sex’s mean value of postTestScore\n",
        "\n",
        "print('# Fill in missing in postTestScore with each sex’s mean value of postTestScore')\n",
        "df['postTestScore'].fillna(df['postTestScore'].mean(), inplace=True)\n",
        "print(df)\n",
        "\n",
        "# Select some rows but ignore the missing data points\n",
        "\n",
        "print('# Select some rows but ignore the missing data points')\n",
        "print(df.loc[[0, 2]].dropna(axis=1))\n",
        "\n"
      ],
      "metadata": {
        "colab": {
          "base_uri": "https://localhost:8080/"
        },
        "id": "lPJpnzsBYlG3",
        "outputId": "eaa035de-2d6e-4667-cf27-3895c8e370f6"
      },
      "execution_count": null,
      "outputs": [
        {
          "output_type": "stream",
          "name": "stdout",
          "text": [
            "  first_name last_name   age  sex  preTestScore  postTestScore\n",
            "0      Jason    Miller  42.0    m           4.0           25.0\n",
            "1        NaN       NaN   NaN  NaN           NaN            NaN\n",
            "2       Tina       Ali  36.0    f           NaN            NaN\n",
            "3       Jake    Milner  24.0    m           2.0           62.0\n",
            "4        Amy     Cooze  73.0    f           3.0           70.0\n",
            "  first_name last_name   age sex  preTestScore  postTestScore\n",
            "0      Jason    Miller  42.0   m           4.0           25.0\n",
            "3       Jake    Milner  24.0   m           2.0           62.0\n",
            "4        Amy     Cooze  73.0   f           3.0           70.0\n",
            "#Drop missing observations :\n",
            "None\n",
            "#Create a new column full of missing values :\n",
            "  first_name last_name   age sex  preTestScore  postTestScore  new_col\n",
            "0      Jason    Miller  42.0   m           4.0           25.0      NaN\n",
            "2       Tina       Ali  36.0   f           NaN            NaN      NaN\n",
            "3       Jake    Milner  24.0   m           2.0           62.0      NaN\n",
            "4        Amy     Cooze  73.0   f           3.0           70.0      NaN\n",
            "# Fill in missing data with zeros\n",
            "  first_name last_name   age sex  preTestScore  postTestScore  new_col\n",
            "0      Jason    Miller  42.0   m           4.0           25.0      0.0\n",
            "2       Tina       Ali  36.0   f           0.0            0.0      0.0\n",
            "3       Jake    Milner  24.0   m           2.0           62.0      0.0\n",
            "4        Amy     Cooze  73.0   f           3.0           70.0      0.0\n",
            "# Fill in missing in preTestScore with the mean value of preTestScore\n",
            "  first_name last_name   age sex  preTestScore  postTestScore  new_col\n",
            "0      Jason    Miller  42.0   m           4.0           25.0      NaN\n",
            "2       Tina       Ali  36.0   f           3.0            NaN      NaN\n",
            "3       Jake    Milner  24.0   m           2.0           62.0      NaN\n",
            "4        Amy     Cooze  73.0   f           3.0           70.0      NaN\n",
            "# Fill in missing in postTestScore with each sex’s mean value of postTestScore\n",
            "  first_name last_name   age sex  preTestScore  postTestScore  new_col\n",
            "0      Jason    Miller  42.0   m           4.0      25.000000      NaN\n",
            "2       Tina       Ali  36.0   f           3.0      52.333333      NaN\n",
            "3       Jake    Milner  24.0   m           2.0      62.000000      NaN\n",
            "4        Amy     Cooze  73.0   f           3.0      70.000000      NaN\n",
            "# Select some rows but ignore the missing data points\n",
            "  first_name last_name   age sex  preTestScore  postTestScore\n",
            "0      Jason    Miller  42.0   m           4.0      25.000000\n",
            "2       Tina       Ali  36.0   f           3.0      52.333333\n"
          ]
        }
      ]
    },
    {
      "cell_type": "code",
      "source": [
        "import pandas as pd\n",
        "import requests\n",
        "\n",
        "url = 'https://raw.githubusercontent.com/selva86/datasets/master/Cars93_miss.csv'\n",
        "\n",
        "df = pd.read_csv(url)\n",
        "\n",
        "print(df)\n",
        "\n",
        "# Count the number of missing values in each column and find the maximum number of missing values.\n",
        "print('# Count the number of missing values in each column and find the maximum number of missing values.')\n",
        "df_na = df.isna().sum()\n",
        "df_na_max = df_na.max()\n",
        "for i in range(0, len(df_na)):\n",
        "  if df_na[i] == df_na_max:\n",
        "    print(df_na.index[i], \":\", df_na_max)\n",
        "\n",
        "#How to replace missing values of `multiple numeric` columns with the mean?\n",
        "print('#How to replace missing values of `multiple numeric` columns with the mean?')\n",
        "\n",
        "df.fillna(df.mean(), inplace=True)\n",
        "print(df.isna().sum())\n",
        "\n",
        "\n",
        "#Calculate the average price of different manufacturers.\n",
        "print('#Calculate the average price of different manufacturers.')\n",
        "\n",
        "print(df.groupby('Manufacturer').agg({'Price':'mean'}))\n",
        "\n",
        "\n",
        "#How to replace missing values of `price` columns with the mean depending on its manufacturers?\n",
        "\n",
        "df['Price'] = df.groupby('Manufacturer')['Price'].transform(lambda x: x.fillna(x.mean()))\n",
        "\n"
      ],
      "metadata": {
        "id": "cvHExuqskkve"
      },
      "execution_count": null,
      "outputs": []
    }
  ]
}