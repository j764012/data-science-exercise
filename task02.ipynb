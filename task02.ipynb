{
  "nbformat": 4,
  "nbformat_minor": 0,
  "metadata": {
    "colab": {
      "provenance": [],
      "authorship_tag": "ABX9TyOoiOSsoAQuRDP2FkWfOnHV",
      "include_colab_link": true
    },
    "kernelspec": {
      "name": "python3",
      "display_name": "Python 3"
    },
    "language_info": {
      "name": "python"
    }
  },
  "cells": [
    {
      "cell_type": "markdown",
      "metadata": {
        "id": "view-in-github",
        "colab_type": "text"
      },
      "source": [
        "<a href=\"https://colab.research.google.com/github/j764012/data-science-exercise/blob/main/task02.ipynb\" target=\"_parent\"><img src=\"https://colab.research.google.com/assets/colab-badge.svg\" alt=\"Open In Colab\"/></a>"
      ]
    },
    {
      "cell_type": "code",
      "execution_count": null,
      "metadata": {
        "colab": {
          "base_uri": "https://localhost:8080/"
        },
        "id": "V775N_cGLvuO",
        "outputId": "2d55d2d8-cb44-4f17-aede-1cb04af36f51"
      },
      "outputs": [
        {
          "output_type": "stream",
          "name": "stdout",
          "text": [
            "     0   1   2   3\n",
            "2   32  21  31  15\n",
            "3   37  18  38  28\n",
            "4   28  35  31  17\n",
            "5   22  28  12  30\n",
            "6   31  37  10  30\n",
            "8   27  14  37  28\n",
            "10  29  19  31  29\n",
            "12  31  12  21  24\n",
            "14  33  39  10  12\n",
            "     0   1   2   3\n",
            "2   32  21  31  15\n",
            "3   37  18  38  28\n",
            "4   28  35  31  17\n",
            "6   31  37  10  30\n",
            "7   15  37  33  31\n",
            "14  33  39  10  12\n",
            "     0   1   2   3\n",
            "0   13  22  22  23\n",
            "1   12  32  22  27\n",
            "4   28  35  31  17\n",
            "5   22  28  12  30\n",
            "6   31  37  10  30\n",
            "7   15  37  33  31\n",
            "8   27  14  37  28\n",
            "9   17  27  14  36\n",
            "10  29  19  31  29\n",
            "11  12  38  32  31\n",
            "13  11  34  39  30\n",
            "14  33  39  10  12\n",
            "     0   1   2   3\n",
            "3   37  18  38  28\n",
            "4   28  35  31  17\n",
            "6   31  37  10  30\n",
            "7   15  37  33  31\n",
            "8   27  14  37  28\n",
            "10  29  19  31  29\n",
            "11  12  38  32  31\n",
            "13  11  34  39  30\n"
          ]
        }
      ],
      "source": [
        "import pandas as pd\n",
        "import numpy as np\n",
        "df = pd.DataFrame(np.random.randint(10, 40, 60).reshape(-1, 4))\n",
        "# print(df[0])\n",
        "# - 1. filtered by first column > 20?\n",
        "\n",
        "result = df[0] > 20\n",
        "print(df[result])\n",
        "\n",
        "# - 2. filtered by first column + second column > 50\n",
        "\n",
        "result = df[0] + df[1] > 50\n",
        "print(df[result])\n",
        "\n",
        "# - 3. filtered by first column < 30 or second column > 30\n",
        "\n",
        "result = (df[0] < 30) | (df[1] > 30)\n",
        "print(df[result])\n",
        "\n",
        "# - 4. filtered by total sum of row > 100\n",
        "\n",
        "result = df.sum(axis=1) > 100\n",
        "print(df[result])"
      ]
    },
    {
      "cell_type": "code",
      "source": [
        "import pandas as pd\n",
        "import numpy as np\n",
        "\n",
        "d = [\n",
        "    {'city': 'Austin', 'visitor': 139, 'weekday': 'Sun'},\n",
        "    {'city': 'Dallas', 'visitor': 237, 'weekday': 'Sun'},\n",
        "    {'city': 'Austin', 'visitor': 326, 'weekday': 'Mon'},\n",
        "    {'city': 'Dallas', 'visitor': 456, 'weekday': 'Mon'}\n",
        "]\n",
        "\n",
        "df = pd.DataFrame(d)\n",
        "# print(df)\n",
        "\n",
        "grouped = df.groupby('weekday')\n",
        "result = grouped.agg({'visitor':'sum'})\n",
        "print(result.to_dict()['visitor'])"
      ],
      "metadata": {
        "id": "GNJEulgdMKz3",
        "colab": {
          "base_uri": "https://localhost:8080/"
        },
        "outputId": "5f0d5cc0-ff72-42a4-94a4-b9d2b821b869"
      },
      "execution_count": 1,
      "outputs": [
        {
          "output_type": "stream",
          "name": "stdout",
          "text": [
            "{'Mon': 782, 'Sun': 376}\n"
          ]
        }
      ]
    },
    {
      "cell_type": "code",
      "source": [
        "import pandas as pd\n",
        "df = pd.read_csv('https://data.nhi.gov.tw/resource/Nhi_Fst/Fstdata.csv')\n",
        "\n",
        "df = df[['醫事機構地址', '快篩試劑截至目前結餘存貨數量']]\n",
        "# print(df)\n",
        "\n",
        "city = lambda x : x[:3]\n",
        "# result['醫事機構地址'][0][:3]\n",
        "\n",
        "df['醫事機構地址'] = df['醫事機構地址'].map(city)\n",
        "\n",
        "grouped = df.groupby(['醫事機構地址'])\n",
        "result = grouped.agg({'快篩試劑截至目前結餘存貨數量':'sum'})\n",
        "print(result.sort_values(by='快篩試劑截至目前結餘存貨數量', ascending=False))"
      ],
      "metadata": {
        "colab": {
          "base_uri": "https://localhost:8080/"
        },
        "id": "Rac3gh84HrQK",
        "outputId": "58b2bdd0-de8e-4ab3-e0f7-1276eab0938b"
      },
      "execution_count": 2,
      "outputs": [
        {
          "output_type": "stream",
          "name": "stdout",
          "text": [
            "        快篩試劑截至目前結餘存貨數量\n",
            "醫事機構地址                \n",
            "新北市              41283\n",
            "高雄市              31328\n",
            "臺中市              31226\n",
            "臺北市              27009\n",
            "桃園市              22725\n",
            "臺南市              22498\n",
            "彰化縣              14806\n",
            "苗栗縣              11472\n",
            "雲林縣              11167\n",
            "屏東縣               9061\n",
            "南投縣               7389\n",
            "嘉義縣               5837\n",
            "嘉義市               5204\n",
            "新竹縣               5174\n",
            "基隆市               4750\n",
            "花蓮縣               4246\n",
            "宜蘭縣               4112\n",
            "新竹市               4092\n",
            "臺東縣               2073\n",
            "澎湖縣               1578\n",
            "連江縣               1010\n",
            "金門縣                522\n"
          ]
        }
      ]
    },
    {
      "cell_type": "code",
      "source": [],
      "metadata": {
        "id": "UK8D9w5gHxJl"
      },
      "execution_count": null,
      "outputs": []
    }
  ]
}