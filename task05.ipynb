{
  "nbformat": 4,
  "nbformat_minor": 0,
  "metadata": {
    "colab": {
      "provenance": [],
      "authorship_tag": "ABX9TyMEz/i3EAtCs0U39XUOI4e6",
      "include_colab_link": true
    },
    "kernelspec": {
      "name": "python3",
      "display_name": "Python 3"
    },
    "language_info": {
      "name": "python"
    }
  },
  "cells": [
    {
      "cell_type": "markdown",
      "metadata": {
        "id": "view-in-github",
        "colab_type": "text"
      },
      "source": [
        "<a href=\"https://colab.research.google.com/github/j764012/data-science-exercise/blob/main/task05.ipynb\" target=\"_parent\"><img src=\"https://colab.research.google.com/assets/colab-badge.svg\" alt=\"Open In Colab\"/></a>"
      ]
    },
    {
      "cell_type": "code",
      "execution_count": null,
      "metadata": {
        "colab": {
          "base_uri": "https://localhost:8080/"
        },
        "id": "RBjqPUoAzdnj",
        "outputId": "68c3e2ec-2c91-400d-d72d-28eca777ff8c"
      },
      "outputs": [
        {
          "output_type": "stream",
          "name": "stdout",
          "text": [
            "5\n",
            "            0  binned\n",
            "0   43.587090       2\n",
            "1   96.600566       4\n",
            "2   45.348717       2\n",
            "3   18.021116       1\n",
            "4    4.808696       0\n",
            "..        ...     ...\n",
            "95  98.618032       4\n",
            "96  14.446160       0\n",
            "97  66.986574       3\n",
            "98  17.119449       0\n",
            "99  21.944422       1\n",
            "\n",
            "[100 rows x 2 columns]\n"
          ]
        }
      ],
      "source": [
        "import numpy as np\n",
        "import pandas as pd\n",
        "\n",
        "df = pd.DataFrame(np.random.random(100)*100)\n",
        "\n",
        "n = int(input())\n",
        "\n",
        "df['binned'] = pd.qcut(df[0], q=n, labels=False)\n",
        "print(df)\n"
      ]
    },
    {
      "cell_type": "code",
      "source": [
        "import pandas as pd\n",
        "import numpy as np\n",
        "from sklearn.datasets import load_iris\n",
        "import matplotlib.pyplot as plt\n",
        "import seaborn as sns\n",
        "iris = load_iris()\n",
        "df = pd.DataFrame(data= np.c_[iris['data'], iris['target']],\n",
        "                     columns= iris['feature_names'] + ['target'])\n",
        "# print(df)\n",
        "sns.scatterplot(data=df.drop('target', axis=1))\n",
        "plt.show()\n",
        "corr_matrix = df.corr()\n",
        "print(corr_matrix)"
      ],
      "metadata": {
        "id": "73Nl2uSqzyFj"
      },
      "execution_count": null,
      "outputs": []
    }
  ]
}