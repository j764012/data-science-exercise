{
  "nbformat": 4,
  "nbformat_minor": 0,
  "metadata": {
    "colab": {
      "provenance": [],
      "authorship_tag": "ABX9TyPFm6U9MTeyi7ZFhypblx1E",
      "include_colab_link": true
    },
    "kernelspec": {
      "name": "python3",
      "display_name": "Python 3"
    },
    "language_info": {
      "name": "python"
    }
  },
  "cells": [
    {
      "cell_type": "markdown",
      "metadata": {
        "id": "view-in-github",
        "colab_type": "text"
      },
      "source": [
        "<a href=\"https://colab.research.google.com/github/j764012/data-science-exercise/blob/main/task02_03.ipynb\" target=\"_parent\"><img src=\"https://colab.research.google.com/assets/colab-badge.svg\" alt=\"Open In Colab\"/></a>"
      ]
    },
    {
      "cell_type": "code",
      "execution_count": null,
      "metadata": {
        "colab": {
          "base_uri": "https://localhost:8080/"
        },
        "id": "dmK4Q4p3Ou7C",
        "outputId": "1ca1d6c4-54aa-42a9-a335-20f24d42d97f"
      },
      "outputs": [
        {
          "output_type": "stream",
          "name": "stdout",
          "text": [
            "        快篩試劑截至目前結餘存貨數量\n",
            "醫事機構地址                \n",
            "新北市              46750\n",
            "臺中市              35905\n",
            "高雄市              35664\n",
            "臺北市              31137\n",
            "臺南市              26765\n",
            "桃園市              25329\n",
            "彰化縣              16841\n",
            "苗栗縣              12435\n",
            "雲林縣              12324\n",
            "屏東縣              10045\n",
            "南投縣               7911\n",
            "嘉義縣               6591\n",
            "嘉義市               5981\n",
            "新竹縣               5631\n",
            "基隆市               5100\n",
            "花蓮縣               4794\n",
            "新竹市               4785\n",
            "宜蘭縣               4464\n",
            "臺東縣               2203\n",
            "澎湖縣               1708\n",
            "連江縣               1010\n",
            "金門縣                539\n"
          ]
        }
      ],
      "source": [
        "import pandas as pd\n",
        "df = pd.read_csv('https://data.nhi.gov.tw/resource/Nhi_Fst/Fstdata.csv')\n",
        "\n",
        "df = df[['醫事機構地址', '快篩試劑截至目前結餘存貨數量']]\n",
        "# print(df)\n",
        "\n",
        "city = lambda x : x[:3]\n",
        "# result['醫事機構地址'][0][:3]\n",
        "\n",
        "df['醫事機構地址'] = df['醫事機構地址'].map(city)\n",
        "\n",
        "grouped = df.groupby(['醫事機構地址'])\n",
        "result = grouped.agg({'快篩試劑截至目前結餘存貨數量':'sum'})\n",
        "print(result.sort_values(by='快篩試劑截至目前結餘存貨數量', ascending=False))"
      ]
    },
    {
      "cell_type": "code",
      "source": [],
      "metadata": {
        "id": "IfknZJAeTO-Q"
      },
      "execution_count": null,
      "outputs": []
    }
  ]
}